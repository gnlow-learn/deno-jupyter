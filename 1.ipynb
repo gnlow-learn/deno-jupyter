{
 "cells": [
  {
   "cell_type": "code",
   "execution_count": 1,
   "metadata": {},
   "outputs": [
    {
     "data": {
      "text/html": [
       "\n",
       "    <h1>Hello, World!</h1>\n"
      ]
     },
     "execution_count": 1,
     "metadata": {},
     "output_type": "execute_result"
    }
   ],
   "source": [
    "Deno.jupyter.html`\n",
    "    <h1>Hello, World!</h1>\n",
    "`"
   ]
  },
  {
   "cell_type": "code",
   "execution_count": 4,
   "metadata": {},
   "outputs": [
    {
     "data": {
      "text/markdown": [
       "# Hello, World!"
      ]
     },
     "metadata": {},
     "output_type": "display_data"
    }
   ],
   "source": [
    "await Deno.jupyter.display({\n",
    "    \"text/markdown\": \"# Hello, World!\" ,\n",
    "}, { raw: true })"
   ]
  },
  {
   "cell_type": "code",
   "execution_count": 6,
   "metadata": {},
   "outputs": [
    {
     "ename": "ReferenceError",
     "evalue": "document is not defined",
     "output_type": "error",
     "traceback": [
      "Stack trace:",
      "ReferenceError: document is not defined",
      "    at <anonymous>:15:3",
      "    at eventLoopTick (ext:core/01_core.js:175:7)"
     ]
    }
   ],
   "source": [
    "import { document } from \"jsr:@ry/jupyter-helper\"\n",
    "import { plot, dot } from \"npm:@observablehq/plot\"\n",
    "\n",
    "plot({\n",
    "    marks: [\n",
    "        dot([\n",
    "            [0, 1],\n",
    "            [1, 2],\n",
    "        ], {\n",
    "            \n",
    "        })\n",
    "    ],\n",
    "    document,\n",
    "})"
   ]
  }
 ],
 "metadata": {
  "kernelspec": {
   "display_name": "Deno",
   "language": "typescript",
   "name": "deno"
  },
  "language_info": {
   "codemirror_mode": "typescript",
   "file_extension": ".ts",
   "mimetype": "text/x.typescript",
   "name": "typescript",
   "nbconvert_exporter": "script",
   "pygments_lexer": "typescript",
   "version": "5.6.2"
  }
 },
 "nbformat": 4,
 "nbformat_minor": 2
}
