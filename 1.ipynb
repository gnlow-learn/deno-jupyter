{
 "cells": [
  {
   "cell_type": "code",
   "execution_count": 1,
   "metadata": {},
   "outputs": [
    {
     "data": {
      "text/html": [
       "\n",
       "    <h1>Hello, World!</h1>\n"
      ]
     },
     "execution_count": 1,
     "metadata": {},
     "output_type": "execute_result"
    }
   ],
   "source": [
    "Deno.jupyter.html`\n",
    "    <h1>Hello, World!</h1>\n",
    "`"
   ]
  },
  {
   "cell_type": "code",
   "execution_count": 4,
   "metadata": {},
   "outputs": [
    {
     "data": {
      "text/markdown": [
       "# Hello, World!"
      ]
     },
     "metadata": {},
     "output_type": "display_data"
    }
   ],
   "source": [
    "await Deno.jupyter.display({\n",
    "    \"text/markdown\": \"# Hello, World!\" ,\n",
    "}, { raw: true })"
   ]
  },
  {
   "cell_type": "code",
   "execution_count": 14,
   "metadata": {},
   "outputs": [
    {
     "data": {
      "image/svg+xml": [
       "<svg viewBox=\"0 0 640 400\" height=\"400\" width=\"640\" text-anchor=\"middle\" font-size=\"10\" font-family=\"system-ui, sans-serif\" fill=\"currentColor\" class=\"plot-d6a7b5\"><style>:where(.plot-d6a7b5) {\n",
       "  --plot-background: white;\n",
       "  display: block;\n",
       "  height: auto;\n",
       "  height: intrinsic;\n",
       "  max-width: 100%;\n",
       "}\n",
       ":where(.plot-d6a7b5 text),\n",
       ":where(.plot-d6a7b5 tspan) {\n",
       "  white-space: pre;\n",
       "}</style><g stroke=\"currentColor\" fill=\"none\" aria-hidden=\"true\" aria-label=\"y-axis tick\"><path d=\"M0,0L-6,0\" transform=\"translate(40,370)\" /><path d=\"M0,0L-6,0\" transform=\"translate(40,335)\" /><path d=\"M0,0L-6,0\" transform=\"translate(40,300)\" /><path d=\"M0,0L-6,0\" transform=\"translate(40,265)\" /><path d=\"M0,0L-6,0\" transform=\"translate(40,230)\" /><path d=\"M0,0L-6,0\" transform=\"translate(40,195)\" /><path d=\"M0,0L-6,0\" transform=\"translate(40,159.99999999999997)\" /><path d=\"M0,0L-6,0\" transform=\"translate(40,125.00000000000001)\" /><path d=\"M0,0L-6,0\" transform=\"translate(40,89.99999999999999)\" /><path d=\"M0,0L-6,0\" transform=\"translate(40,55.000000000000036)\" /><path d=\"M0,0L-6,0\" transform=\"translate(40,20)\" /></g><g transform=\"translate(-9,0)\" font-variant=\"tabular-nums\" text-anchor=\"end\" aria-label=\"y-axis tick label\"><text transform=\"translate(40,370)\" y=\"0.32em\">1.0</text><text transform=\"translate(40,335)\" y=\"0.32em\">1.2</text><text transform=\"translate(40,300)\" y=\"0.32em\">1.4</text><text transform=\"translate(40,265)\" y=\"0.32em\">1.6</text><text transform=\"translate(40,230)\" y=\"0.32em\">1.8</text><text transform=\"translate(40,195)\" y=\"0.32em\">2.0</text><text transform=\"translate(40,159.99999999999997)\" y=\"0.32em\">2.2</text><text transform=\"translate(40,125.00000000000001)\" y=\"0.32em\">2.4</text><text transform=\"translate(40,89.99999999999999)\" y=\"0.32em\">2.6</text><text transform=\"translate(40,55.000000000000036)\" y=\"0.32em\">2.8</text><text transform=\"translate(40,20)\" y=\"0.32em\">3.0</text></g><g stroke=\"currentColor\" fill=\"none\" aria-hidden=\"true\" aria-label=\"x-axis tick\"><path d=\"M0,0L0,6\" transform=\"translate(40,370)\" /><path d=\"M0,0L0,6\" transform=\"translate(98,370)\" /><path d=\"M0,0L0,6\" transform=\"translate(156,370)\" /><path d=\"M0,0L0,6\" transform=\"translate(214,370)\" /><path d=\"M0,0L0,6\" transform=\"translate(272,370)\" /><path d=\"M0,0L0,6\" transform=\"translate(330,370)\" /><path d=\"M0,0L0,6\" transform=\"translate(388,370)\" /><path d=\"M0,0L0,6\" transform=\"translate(446,370)\" /><path d=\"M0,0L0,6\" transform=\"translate(504,370)\" /><path d=\"M0,0L0,6\" transform=\"translate(562,370)\" /><path d=\"M0,0L0,6\" transform=\"translate(620,370)\" /></g><g transform=\"translate(0,9)\" font-variant=\"tabular-nums\" aria-label=\"x-axis tick label\"><text transform=\"translate(40,370)\" y=\"0.71em\">0.0</text><text transform=\"translate(98,370)\" y=\"0.71em\">0.1</text><text transform=\"translate(156,370)\" y=\"0.71em\">0.2</text><text transform=\"translate(214,370)\" y=\"0.71em\">0.3</text><text transform=\"translate(272,370)\" y=\"0.71em\">0.4</text><text transform=\"translate(330,370)\" y=\"0.71em\">0.5</text><text transform=\"translate(388,370)\" y=\"0.71em\">0.6</text><text transform=\"translate(446,370)\" y=\"0.71em\">0.7</text><text transform=\"translate(504,370)\" y=\"0.71em\">0.8</text><text transform=\"translate(562,370)\" y=\"0.71em\">0.9</text><text transform=\"translate(620,370)\" y=\"0.71em\">1.0</text></g><g aria-label=\"dot\"><circle fill=\"blue\" r=\"3\" cy=\"370\" cx=\"40\" /><circle fill=\"blue\" r=\"3\" cy=\"195\" cx=\"620\" /><circle fill=\"red\" r=\"3\" cy=\"20\" cx=\"330\" /></g></svg>"
      ]
     },
     "execution_count": 14,
     "metadata": {},
     "output_type": "execute_result"
    }
   ],
   "source": [
    "import { document } from \"jsr:@ry/jupyter-helper\"\n",
    "import { plot, dot } from \"npm:@observablehq/plot\"\n",
    "\n",
    "plot({\n",
    "    marks: [\n",
    "        dot([\n",
    "            [0, 1],\n",
    "            [1, 2],\n",
    "            [0.5, 3],\n",
    "        ], {\n",
    "            fill: () => Math.random() > 0.5 ? \"red\" : \"blue\",\n",
    "        })\n",
    "    ],\n",
    "    document,\n",
    "})"
   ]
  }
 ],
 "metadata": {
  "kernelspec": {
   "display_name": "Deno",
   "language": "typescript",
   "name": "deno"
  },
  "language_info": {
   "codemirror_mode": "typescript",
   "file_extension": ".ts",
   "mimetype": "text/x.typescript",
   "name": "typescript",
   "nbconvert_exporter": "script",
   "pygments_lexer": "typescript",
   "version": "5.6.2"
  }
 },
 "nbformat": 4,
 "nbformat_minor": 2
}
